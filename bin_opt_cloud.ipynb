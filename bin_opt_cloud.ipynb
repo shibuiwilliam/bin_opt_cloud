{
 "cells": [
  {
   "cell_type": "markdown",
   "metadata": {},
   "source": [
    "# Bin Packing Optimization for AWS EC2 Instances"
   ]
  },
  {
   "cell_type": "markdown",
   "metadata": {},
   "source": [
    "This notebook shows a way to optimize AWS EC2 usage using bin packing optimization.<br>\n",
    "I used [Openopt](https://pypi.python.org/pypi/openopt) to make a model and solve the program.<br>\n",
    "To install openopt, run the following command.\n",
    "\n",
    "```\n",
    "conda install --channel https://conda.anaconda.org/cachemeorg funcdesigner openopt\n",
    "pip install cvxopt\n",
    "pip install glpk\n",
    "```\n",
    "\n",
    "This program is for python3.5 with Anaconda.\n",
    "<br><br>\n",
    "### Problem to solve:\n",
    "Assume you have several applications to run on public cloud(say, AWS EC2), for 24/7.<br>\n",
    "You know the number of applications and how much resources each application uses.<br>\n",
    "Your objective is to install and run the applications to EC2 instances with cost optimized.<br>\n",
    "What it means by cost optimized is that you have to make the cost less as possible.<br>\n",
    "Which instance sizes and how many instances do you choose to run the applications?"
   ]
  },
  {
   "cell_type": "code",
   "execution_count": 1,
   "metadata": {
    "collapsed": false
   },
   "outputs": [],
   "source": [
    "# import openopt\n",
    "from openopt import *"
   ]
  },
  {
   "cell_type": "code",
   "execution_count": 6,
   "metadata": {
    "collapsed": true
   },
   "outputs": [],
   "source": [
    "# number of each application by size\n",
    "small_num = 20\n",
    "med_num = 12\n",
    "large_num = 9\n",
    "\n",
    "apps = []\n",
    "\n",
    "# make a list of dictionary of the applications\n",
    "for i in range(small_num):\n",
    "    small_app = {\n",
    "        'name': 'small%d' % i,\n",
    "        'cpu': 0.2,\n",
    "        'mem': 256,\n",
    "        'disk': 1\n",
    "        }\n",
    "    apps.append(small_app)\n",
    "\n",
    "for i in range(med_num):\n",
    "    med_app = {\n",
    "        'name': 'medium%d' % i,\n",
    "        'cpu': 0.5,\n",
    "        'mem': 512,\n",
    "        'disk': 10\n",
    "        }\n",
    "    apps.append(med_app)\n",
    "    \n",
    "for i in range(large_num):\n",
    "    large_app = {\n",
    "        'name': 'large%d' % i,\n",
    "        'cpu': 2.4,\n",
    "        'mem': 2048,\n",
    "        'disk': 40\n",
    "        }\n",
    "    apps.append(large_app)"
   ]
  },
  {
   "cell_type": "code",
   "execution_count": 23,
   "metadata": {
    "collapsed": true
   },
   "outputs": [],
   "source": [
    "# instance size to choose from\n",
    "# each resource are multiply by 0.9 for assuming OS uses the rest of 10%\n",
    "instance_sizes = [\n",
    "    {\n",
    "        'name': 'm4.x4large',\n",
    "        'cost': 1.032 * 24 * 30,\n",
    "        'size': {\n",
    "            'cpu': 16 * 0.9,\n",
    "            'mem': 64 * 1024 * 0.9, \n",
    "            'disk': 1000 * 0.9\n",
    "        }\n",
    "    },\n",
    "    {\n",
    "        'name': 'r3.2xlarge',\n",
    "        'cost': 0.798 * 24 * 30,\n",
    "        'size': {\n",
    "            'cpu': 8 * 0.9,\n",
    "            'mem': 61 * 1024 * 0.9, \n",
    "            'disk': 1000 * 0.9\n",
    "        }\n",
    "    },\n",
    "    {\n",
    "        'name': 'c4.2xlarge',\n",
    "        'cost': 0.504 * 24 * 30,\n",
    "        'size': {   \n",
    "            'cpu': 8 * 0.9,\n",
    "            'mem': 15 * 1024 * 0.9, \n",
    "            'disk': 1000 * 0.9\n",
    "        }\n",
    "    }\n",
    "]"
   ]
  },
  {
   "cell_type": "code",
   "execution_count": 24,
   "metadata": {
    "collapsed": false
   },
   "outputs": [],
   "source": [
    "# bin packing\n",
    "# returns solved model, number of instances to use and the total cost\n",
    "def bin_pack_instance(apps, instance_size):\n",
    "    cost = instance_size['cost']    \n",
    "    p = BPP(apps, instance_size['size'], goal = 'min')\n",
    "    r = p.solve('glpk', iprint = 0)\n",
    "    instances = len(r.xf)\n",
    "    total_cost = instances * cost\n",
    "    return r, instances, total_cost"
   ]
  },
  {
   "cell_type": "code",
   "execution_count": 28,
   "metadata": {
    "collapsed": false,
    "scrolled": true
   },
   "outputs": [
    {
     "name": "stdout",
     "output_type": "stream",
     "text": [
      "\n",
      "------------------------- OpenOpt 0.5625 -------------------------\n",
      "problem: unnamed   type: MILP    goal: min\n",
      "solver: glpk\n",
      "  iter  objFunVal  log10(maxResidual)  \n",
      "    0  0.000e+00               0.00 \n",
      "    1  0.000e+00            -100.00 \n",
      "istop: 1000 (optimal)\n",
      "Solver:   Time Elapsed = 0.12 \tCPU Time Elapsed = 0.12\n",
      "objFuncValue: 3 (feasible, MaxResidual = 0)\n",
      "\n",
      "Bin packing for : m4.x4large\n",
      "Total number of apps is 41\n",
      "Total m4.x4large instance used is 3\n",
      "Total cost is 2229.12\n",
      "Instance 0 contains 18 apps\n",
      "\t CPU: 14.200000000000001vCPU\t RAM: 13312.0MB\t Disk: 228.0GB\n",
      "\t Contains: ('small0', 'small3', 'small4', 'small5', 'small6', 'small7', 'small8', 'small13', 'medium0', 'medium1', 'medium2', 'medium3', 'medium4', 'medium5', 'large3', 'large4', 'large6', 'large7')\n",
      "Instance 1 contains 17 apps\n",
      "\t CPU: 14.4vCPU\t RAM: 13312.0MB\t Disk: 212.0GB\n",
      "\t Contains: ('small1', 'small2', 'small9', 'small10', 'small11', 'small12', 'small14', 'small15', 'small16', 'small17', 'small18', 'small19', 'large0', 'large1', 'large2', 'large5', 'large8')\n",
      "Instance 2 contains 6 apps\n",
      "\t CPU: 3.0vCPU\t RAM: 3072.0MB\t Disk: 60.0GB\n",
      "\t Contains: ('medium6', 'medium7', 'medium8', 'medium9', 'medium10', 'medium11')\n",
      "\n",
      "\n",
      "------------------------- OpenOpt 0.5625 -------------------------\n",
      "problem: unnamed   type: MILP    goal: min\n",
      "solver: glpk\n",
      "  iter  objFunVal  log10(maxResidual)  \n",
      "    0  0.000e+00               0.00 \n",
      "    1  0.000e+00            -100.00 \n",
      "istop: 1000 (optimal)\n",
      "Solver:   Time Elapsed = 0.24 \tCPU Time Elapsed = 0.23\n",
      "objFuncValue: 5 (feasible, MaxResidual = 0)\n",
      "\n",
      "Bin packing for : r3.2xlarge\n",
      "Total number of apps is 41\n",
      "Total r3.2xlarge instance used is 5\n",
      "Total cost is 2872.8\n",
      "Instance 0 contains 3 apps\n",
      "\t CPU: 7.199999999999999vCPU\t RAM: 6144.0MB\t Disk: 120.0GB\n",
      "\t Contains: ('large0', 'large4', 'large7')\n",
      "Instance 1 contains 11 apps\n",
      "\t CPU: 7.199999999999999vCPU\t RAM: 6912.0MB\t Disk: 107.0GB\n",
      "\t Contains: ('small5', 'small6', 'small7', 'small8', 'small9', 'small18', 'small19', 'medium0', 'medium1', 'large1', 'large2')\n",
      "Instance 2 contains 13 apps\n",
      "\t CPU: 7.0vCPU\t RAM: 6912.0MB\t Disk: 91.0GB\n",
      "\t Contains: ('small0', 'small1', 'small2', 'small10', 'small11', 'small12', 'small13', 'small14', 'small15', 'small16', 'small17', 'large5', 'large6')\n",
      "Instance 3 contains 8 apps\n",
      "\t CPU: 7.199999999999999vCPU\t RAM: 6656.0MB\t Disk: 122.0GB\n",
      "\t Contains: ('small3', 'small4', 'medium2', 'medium3', 'medium4', 'medium5', 'large3', 'large8')\n",
      "Instance 4 contains 6 apps\n",
      "\t CPU: 3.0vCPU\t RAM: 3072.0MB\t Disk: 60.0GB\n",
      "\t Contains: ('medium6', 'medium7', 'medium8', 'medium9', 'medium10', 'medium11')\n",
      "\n",
      "\n",
      "------------------------- OpenOpt 0.5625 -------------------------\n",
      "problem: unnamed   type: MILP    goal: min\n",
      "solver: glpk\n",
      "  iter  objFunVal  log10(maxResidual)  \n",
      "    0  0.000e+00               0.00 \n",
      "    1  0.000e+00            -100.00 \n",
      "istop: 1000 (optimal)\n",
      "Solver:   Time Elapsed = 0.14 \tCPU Time Elapsed = 0.14\n",
      "objFuncValue: 5 (feasible, MaxResidual = 0)\n",
      "\n",
      "Bin packing for : c4.2xlarge\n",
      "Total number of apps is 41\n",
      "Total c4.2xlarge instance used is 5\n",
      "Total cost is 1814.4\n",
      "Instance 0 contains 7 apps\n",
      "\t CPU: 5.4vCPU\t RAM: 5120.0MB\t Disk: 100.0GB\n",
      "\t Contains: ('medium0', 'medium1', 'medium2', 'medium3', 'medium4', 'medium5', 'large6')\n",
      "Instance 1 contains 15 apps\n",
      "\t CPU: 7.0vCPU\t RAM: 7168.0MB\t Disk: 108.0GB\n",
      "\t Contains: ('small8', 'small9', 'small10', 'small14', 'small16', 'small17', 'small18', 'small19', 'medium6', 'medium7', 'medium8', 'medium9', 'medium10', 'medium11', 'large0')\n",
      "Instance 2 contains 14 apps\n",
      "\t CPU: 7.199999999999999vCPU\t RAM: 7168.0MB\t Disk: 92.0GB\n",
      "\t Contains: ('small0', 'small1', 'small2', 'small3', 'small4', 'small5', 'small6', 'small7', 'small11', 'small12', 'small13', 'small15', 'large3', 'large4')\n",
      "Instance 3 contains 3 apps\n",
      "\t CPU: 7.199999999999999vCPU\t RAM: 6144.0MB\t Disk: 120.0GB\n",
      "\t Contains: ('large1', 'large2', 'large5')\n",
      "Instance 4 contains 2 apps\n",
      "\t CPU: 4.8vCPU\t RAM: 4096.0MB\t Disk: 80.0GB\n",
      "\t Contains: ('large7', 'large8')\n",
      "\n",
      "Result: [{'instance': 'm4.x4large', 'total_cost': 2229.12}, {'instance': 'r3.2xlarge', 'total_cost': 2872.8}, {'instance': 'c4.2xlarge', 'total_cost': 1814.4}]\n"
     ]
    }
   ],
   "source": [
    "if __name__ == '__main__':\n",
    "    list_cost = []\n",
    "    for instance in instance_sizes:\n",
    "        r, instances, total_cost = bin_pack_instance(apps, instance)\n",
    "        list_cost.append({'instance': instance['name'], 'total_cost': total_cost})\n",
    "\n",
    "        print(\"\\r\") \n",
    "        print(\"Bin packing for : {0}\".format(instance['name']))\n",
    "        print(\"Total number of apps is \" + str(len(apps)))\n",
    "        print(\"Total {0} instance used is {1}\".format(instance['name'], instances))\n",
    "        print(\"Total cost is {0}\".format(total_cost))\n",
    "\n",
    "        for i,s in enumerate(r.xf):\n",
    "            print (\"Instance {0} contains {1} apps\".format(i, len(s)))\n",
    "            print(\"\\t CPU: {0}vCPU\\t RAM: {1}MB\\t Disk: {2}GB\"\n",
    "                  .format(r.values['cpu'][i], r.values['mem'][i], r.values['disk'][i]))\n",
    "            print(\"\\t Contains: {0}\".format(r.xf[i]))\n",
    "\n",
    "        print(\"\\r\")  \n",
    "    \n",
    "    print(\"Result: {0}\".format(list_cost))"
   ]
  },
  {
   "cell_type": "markdown",
   "metadata": {},
   "source": [
    "### Result\n",
    "Now you know from the total cost of the instances, it is efficient to use 4 c4.2xlarge instances for the applications."
   ]
  },
  {
   "cell_type": "code",
   "execution_count": null,
   "metadata": {
    "collapsed": true
   },
   "outputs": [],
   "source": []
  }
 ],
 "metadata": {
  "anaconda-cloud": {},
  "kernelspec": {
   "display_name": "Python [default]",
   "language": "python",
   "name": "python3"
  },
  "language_info": {
   "codemirror_mode": {
    "name": "ipython",
    "version": 3
   },
   "file_extension": ".py",
   "mimetype": "text/x-python",
   "name": "python",
   "nbconvert_exporter": "python",
   "pygments_lexer": "ipython3",
   "version": "3.5.2"
  }
 },
 "nbformat": 4,
 "nbformat_minor": 1
}
